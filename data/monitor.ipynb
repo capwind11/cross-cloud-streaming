{
 "cells": [
  {
   "cell_type": "code",
   "execution_count": 5,
   "id": "d02b7029",
   "metadata": {},
   "outputs": [
    {
     "ename": "KeyError",
     "evalue": "'vertices'",
     "output_type": "error",
     "traceback": [
      "\u001b[0;31m---------------------------------------------------------------------------\u001b[0m",
      "\u001b[0;31mKeyError\u001b[0m                                  Traceback (most recent call last)",
      "Cell \u001b[0;32mIn[5], line 55\u001b[0m\n\u001b[1;32m     52\u001b[0m \u001b[38;5;28;01mif\u001b[39;00m \u001b[38;5;18m__name__\u001b[39m \u001b[38;5;241m==\u001b[39m \u001b[38;5;124m'\u001b[39m\u001b[38;5;124m__main__\u001b[39m\u001b[38;5;124m'\u001b[39m:\n\u001b[1;32m     53\u001b[0m     \u001b[38;5;28;01mwhile\u001b[39;00m \u001b[38;5;28;01mTrue\u001b[39;00m:\n\u001b[1;32m     54\u001b[0m         \u001b[38;5;66;03m# 获取任务 source 的数据处理速率\u001b[39;00m\n\u001b[0;32m---> 55\u001b[0m         \u001b[43mget_task_source_rate\u001b[49m\u001b[43m(\u001b[49m\u001b[43m)\u001b[49m\n\u001b[1;32m     57\u001b[0m         \u001b[38;5;66;03m# 获取 Kafka Lag 信息并计算数据到达率\u001b[39;00m\n\u001b[1;32m     58\u001b[0m \u001b[38;5;66;03m#         get_kafka_lag_rate()\u001b[39;00m\n\u001b[1;32m     59\u001b[0m \n\u001b[1;32m     60\u001b[0m         \u001b[38;5;66;03m# 等待 30s\u001b[39;00m\n\u001b[1;32m     61\u001b[0m         time\u001b[38;5;241m.\u001b[39msleep(\u001b[38;5;241m30\u001b[39m)\n",
      "Cell \u001b[0;32mIn[5], line 24\u001b[0m, in \u001b[0;36mget_task_source_rate\u001b[0;34m()\u001b[0m\n\u001b[1;32m     22\u001b[0m response \u001b[38;5;241m=\u001b[39m requests\u001b[38;5;241m.\u001b[39mget(flink_api_url \u001b[38;5;241m+\u001b[39m \u001b[38;5;124mf\u001b[39m\u001b[38;5;124m'\u001b[39m\u001b[38;5;124m/jobs/\u001b[39m\u001b[38;5;132;01m{\u001b[39;00mjob_id\u001b[38;5;132;01m}\u001b[39;00m\u001b[38;5;124m/vertices\u001b[39m\u001b[38;5;124m'\u001b[39m)\n\u001b[1;32m     23\u001b[0m response_json \u001b[38;5;241m=\u001b[39m response\u001b[38;5;241m.\u001b[39mjson()\n\u001b[0;32m---> 24\u001b[0m \u001b[38;5;28;01mfor\u001b[39;00m vertex \u001b[38;5;129;01min\u001b[39;00m \u001b[43mresponse_json\u001b[49m\u001b[43m[\u001b[49m\u001b[38;5;124;43m'\u001b[39;49m\u001b[38;5;124;43mvertices\u001b[39;49m\u001b[38;5;124;43m'\u001b[39;49m\u001b[43m]\u001b[49m:\n\u001b[1;32m     25\u001b[0m     \u001b[38;5;28;01mif\u001b[39;00m vertex[\u001b[38;5;124m'\u001b[39m\u001b[38;5;124mtype\u001b[39m\u001b[38;5;124m'\u001b[39m] \u001b[38;5;241m==\u001b[39m \u001b[38;5;124m'\u001b[39m\u001b[38;5;124mSource\u001b[39m\u001b[38;5;124m'\u001b[39m:\n\u001b[1;32m     26\u001b[0m         vertex_id \u001b[38;5;241m=\u001b[39m vertex[\u001b[38;5;124m'\u001b[39m\u001b[38;5;124mid\u001b[39m\u001b[38;5;124m'\u001b[39m]\n",
      "\u001b[0;31mKeyError\u001b[0m: 'vertices'"
     ]
    }
   ],
   "source": [
    "import time\n",
    "import requests\n",
    "# from kafka import KafkaConsumer, TopicPartition\n",
    "\n",
    "# Flink REST API 地址\n",
    "flink_api_url = 'http://localhost:8082'\n",
    "\n",
    "# Kafka 相关配置\n",
    "kafka_bootstrap_servers = 'localhost:9092'\n",
    "kafka_topic = 'my-topic'\n",
    "kafka_group_id = 'my-group'\n",
    "\n",
    "# 获取任务 source 的数据处理速率\n",
    "def get_task_source_rate():\n",
    "    # 发送 GET 请求获取任务列表\n",
    "    response = requests.get(flink_api_url + '/jobs')\n",
    "    response_json = response.json()\n",
    "\n",
    "    # 遍历任务列表，获取每个任务的 source 数据处理速率\n",
    "    for job in response_json['jobs']:\n",
    "        job_id = job['id']\n",
    "        response = requests.get(flink_api_url + f'/jobs/{job_id}/vertices')\n",
    "        response_json = response.json()\n",
    "        for vertex in response_json['vertices']:\n",
    "            if vertex['type'] == 'Source':\n",
    "                vertex_id = vertex['id']\n",
    "                response = requests.get(flink_api_url + f'/jobs/{job_id}/vertices/{vertex_id}/metrics')\n",
    "                response_json = response.json()\n",
    "                for metric in response_json['metrics']:\n",
    "                    if metric['id'] == 'numBytesInLocal':\n",
    "                        rate = metric['value'] / 30  # 计算数据处理速率，单位为 B/s\n",
    "                        print(f'Job {job_id}, Source {vertex_id}: {rate} B/s')\n",
    "\n",
    "# 获取 Kafka Lag 信息并计算数据到达率\n",
    "# def get_kafka_lag_rate():\n",
    "#     consumer = KafkaConsumer(bootstrap_servers=kafka_bootstrap_servers, group_id=kafka_group_id)\n",
    "#     partitions = consumer.partitions_for_topic(kafka_topic)\n",
    "#     if partitions is None:\n",
    "#         return\n",
    "#     for partition in partitions:\n",
    "#         tp = TopicPartition(kafka_topic, partition)\n",
    "#         consumer.assign([tp])\n",
    "#         consumer.seek_to_end(tp)\n",
    "#         end_offset = consumer.position(tp)\n",
    "#         consumer.seek_to_beginning(tp)\n",
    "#         start_offset = consumer.position(tp)\n",
    "#         lag = end_offset - start_offset\n",
    "#         rate = lag / 30  # 计算数据到达率，单位为条/秒\n",
    "#         print(f'Partition {partition}: {rate} records/s')\n",
    "\n",
    "# 主程序\n",
    "if __name__ == '__main__':\n",
    "    while True:\n",
    "        # 获取任务 source 的数据处理速率\n",
    "        get_task_source_rate()\n",
    "\n",
    "        # 获取 Kafka Lag 信息并计算数据到达率\n",
    "#         get_kafka_lag_rate()\n",
    "\n",
    "        # 等待 30s\n",
    "        time.sleep(30)\n"
   ]
  },
  {
   "cell_type": "code",
   "execution_count": 3,
   "id": "c6af64f5",
   "metadata": {},
   "outputs": [],
   "source": [
    "while True:\n",
    "    # 获取任务 source 的数据处理速率\n",
    "    get_task_source_rate()\n",
    "\n",
    "    # 获取 Kafka Lag 信息并计算数据到达率\n",
    "#         get_kafka_lag_rate()\n",
    "\n",
    "    # 等待 30s\n",
    "    time.sleep(30)"
   ]
  },
  {
   "cell_type": "code",
   "execution_count": 9,
   "id": "e39199db",
   "metadata": {},
   "outputs": [
    {
     "name": "stdout",
     "output_type": "stream",
     "text": [
      "{'jobs': [{'id': '53d81da5253844501806c95af939db6b', 'status': 'CANCELED'}, {'id': 'b88d39552dda87f0479f05c31a5e2a31', 'status': 'FAILED'}, {'id': 'cd0b818c3c5833e8f44e08117cc973c3', 'status': 'RUNNING'}, {'id': '8a712689e0515bc72c4269c0269895af', 'status': 'CANCELED'}, {'id': '0f4ab343e711b5ea4da42f648f4cab27', 'status': 'CANCELED'}]}\n"
     ]
    }
   ],
   "source": [
    "response = requests.get(flink_api_url + '/jobs')\n",
    "response_json = response.json()\n",
    "\n",
    "print(response_json)"
   ]
  },
  {
   "cell_type": "code",
   "execution_count": 1,
   "id": "1f9daf42",
   "metadata": {},
   "outputs": [
    {
     "name": "stdout",
     "output_type": "stream",
     "text": [
      "1\n"
     ]
    }
   ],
   "source": [
    "print(1)"
   ]
  },
  {
   "cell_type": "code",
   "execution_count": 10,
   "id": "6d7401d4",
   "metadata": {},
   "outputs": [
    {
     "ename": "KeyError",
     "evalue": "'vertices'",
     "output_type": "error",
     "traceback": [
      "\u001b[0;31m---------------------------------------------------------------------------\u001b[0m",
      "\u001b[0;31mKeyError\u001b[0m                                  Traceback (most recent call last)",
      "Cell \u001b[0;32mIn[10], line 7\u001b[0m\n\u001b[1;32m      5\u001b[0m job \u001b[38;5;241m=\u001b[39m requests\u001b[38;5;241m.\u001b[39mget(flink_api_url \u001b[38;5;241m+\u001b[39m \u001b[38;5;124mf\u001b[39m\u001b[38;5;124m'\u001b[39m\u001b[38;5;124m/jobs/\u001b[39m\u001b[38;5;132;01m{\u001b[39;00mjob_id\u001b[38;5;132;01m}\u001b[39;00m\u001b[38;5;124m/vertices\u001b[39m\u001b[38;5;124m'\u001b[39m)\n\u001b[1;32m      6\u001b[0m job_json \u001b[38;5;241m=\u001b[39m job\u001b[38;5;241m.\u001b[39mjson()\n\u001b[0;32m----> 7\u001b[0m \u001b[38;5;28;01mfor\u001b[39;00m vertex \u001b[38;5;129;01min\u001b[39;00m \u001b[43mjob_json\u001b[49m\u001b[43m[\u001b[49m\u001b[38;5;124;43m'\u001b[39;49m\u001b[38;5;124;43mvertices\u001b[39;49m\u001b[38;5;124;43m'\u001b[39;49m\u001b[43m]\u001b[49m:\n\u001b[1;32m      8\u001b[0m     \u001b[38;5;28;01mif\u001b[39;00m vertex[\u001b[38;5;124m'\u001b[39m\u001b[38;5;124mtype\u001b[39m\u001b[38;5;124m'\u001b[39m] \u001b[38;5;241m==\u001b[39m \u001b[38;5;124m'\u001b[39m\u001b[38;5;124mSource\u001b[39m\u001b[38;5;124m'\u001b[39m:\n\u001b[1;32m      9\u001b[0m         vertex_id \u001b[38;5;241m=\u001b[39m vertex[\u001b[38;5;124m'\u001b[39m\u001b[38;5;124mid\u001b[39m\u001b[38;5;124m'\u001b[39m]\n",
      "\u001b[0;31mKeyError\u001b[0m: 'vertices'"
     ]
    }
   ],
   "source": [
    "for job in response_json['jobs']:\n",
    "    if job['status'] != 'RUNNING':\n",
    "        continue\n",
    "    job_id = job['id']\n",
    "    job = requests.get(flink_api_url + f'/jobs/{job_id}/vertices')\n",
    "    job_json = job.json()\n",
    "    for vertex in job_json['vertices']:\n",
    "        if vertex['type'] == 'Source':\n",
    "            vertex_id = vertex['id']\n",
    "            response = requests.get(flink_api_url + f'/jobs/{job_id}/vertices/{vertex_id}/metrics')\n",
    "            response_json = response.json()\n",
    "            for metric in response_json['metrics']:\n",
    "                if metric['id'] == 'numBytesInLocal':\n",
    "                    rate = metric['value'] / 30  # 计算数据处理速率，单位为 B/s\n",
    "                    print(f'Job {job_id}, Source {vertex_id}: {rate} B/s')"
   ]
  },
  {
   "cell_type": "code",
   "execution_count": 11,
   "id": "fee59cd8",
   "metadata": {},
   "outputs": [
    {
     "data": {
      "text/plain": [
       "{'errors': ['Unable to load requested file /jobs/cd0b818c3c5833e8f44e08117cc973c3/vertices.']}"
      ]
     },
     "execution_count": 11,
     "metadata": {},
     "output_type": "execute_result"
    }
   ],
   "source": [
    "job_json"
   ]
  },
  {
   "cell_type": "code",
   "execution_count": 27,
   "id": "b01d2721",
   "metadata": {},
   "outputs": [],
   "source": [
    "import flink_rest_client\n",
    "from flink_rest_client.v1.client import FlinkRestClientV1"
   ]
  },
  {
   "cell_type": "code",
   "execution_count": 28,
   "id": "9a16ea1d",
   "metadata": {},
   "outputs": [],
   "source": [
    "remote_client: FlinkRestClientV1 = flink_rest_client.FlinkRestClient.get(host=\"localhost\", port=8082)\n",
    "local_client: FlinkRestClientV1 = flink_rest_client.FlinkRestClient.get(host=\"localhost\", port=8081)"
   ]
  },
  {
   "cell_type": "code",
   "execution_count": 30,
   "id": "446cb789",
   "metadata": {},
   "outputs": [
    {
     "data": {
      "text/plain": [
       "[{'id': '71304e3b1a663431746c7f93748a0bd0', 'status': 'CANCELED'},\n",
       " {'id': 'fa03a3b8761ba20dda1986c7f37d9830', 'status': 'RUNNING'},\n",
       " {'id': '6a960016374a108948ac41a189eddc09', 'status': 'CANCELED'},\n",
       " {'id': '7dfedd20ca09435c6e9d5ae8fe885d54', 'status': 'CANCELED'}]"
      ]
     },
     "execution_count": 30,
     "metadata": {},
     "output_type": "execute_result"
    }
   ],
   "source": [
    "remote_client.jobs.all()"
   ]
  },
  {
   "cell_type": "code",
   "execution_count": 40,
   "id": "f6b7905b",
   "metadata": {},
   "outputs": [
    {
     "name": "stdout",
     "output_type": "stream",
     "text": [
      "[{'metric': {'task_name': 'Sink:_kafka_hotitems'}, 'value': [1686153394.498, '5006.5']}, {'metric': {'task_name': 'Source:_HotPagesGenerator'}, 'value': [1686153394.498, '0']}]\n"
     ]
    }
   ],
   "source": [
    "for job in local_client.jobs.all():\n",
    "    if job['status']=='RUNNING':\n",
    "        query = 'sum by(task_name) (flink_taskmanager_job_task_operator_numRecordsInPerSecond{{job_id=\"{}\"}})'.format(job['id'])\n",
    "        result = prom.custom_query(query)\n",
    "        print(result)"
   ]
  },
  {
   "cell_type": "code",
   "execution_count": 39,
   "id": "0da1d885",
   "metadata": {},
   "outputs": [
    {
     "name": "stdout",
     "output_type": "stream",
     "text": [
      "[{'metric': {'task_name': 'Map'}, 'value': [1686153375.537, '5004.85']}, {'metric': {'task_name': 'SlidingEventTimeWindows'}, 'value': [1686153375.537, '1244.5499999999997']}, {'metric': {'task_name': 'Timestamps_Watermarks'}, 'value': [1686153375.537, '1245.25']}, {'metric': {'task_name': 'Projection'}, 'value': [1686153375.537, '1244.15']}, {'metric': {'task_name': 'Sink:_Print_to_Std__Out'}, 'value': [1686153375.537, '2000.1999999999998']}, {'metric': {'task_name': 'Source:_kafka_hotitems'}, 'value': [1686153375.537, '0']}, {'metric': {'task_name': 'KeyedProcess'}, 'value': [1686153375.537, '2000']}, {'metric': {'task_name': 'Filter'}, 'value': [1686153375.537, '6249.083333333333']}]\n"
     ]
    }
   ],
   "source": [
    "for job in remote_client.jobs.all():\n",
    "    if job['status']=='RUNNING':\n",
    "        query = 'sum by(task_name) (flink_taskmanager_job_task_operator_numRecordsInPerSecond{{job_id=\"{}\"}})'.format(job['id'])\n",
    "        result = prom.custom_query(query)\n",
    "        print(result)"
   ]
  },
  {
   "cell_type": "code",
   "execution_count": 14,
   "id": "5179f045",
   "metadata": {},
   "outputs": [],
   "source": [
    "from prometheus_api_client import PrometheusConnect\n",
    "\n",
    "prom = PrometheusConnect(url=\"http://localhost:9090\")"
   ]
  },
  {
   "cell_type": "code",
   "execution_count": 45,
   "id": "8fa2942e",
   "metadata": {},
   "outputs": [],
   "source": [
    "query = 'sum by(task_name) (flink_taskmanager_job_task_operator_numRecordsInPerSecond{job_id=\"7127565bf8c16d1006ef729495ef04d4\"})'\n",
    "result = prom.custom_query(query)"
   ]
  },
  {
   "cell_type": "code",
   "execution_count": 48,
   "id": "51c3f881",
   "metadata": {},
   "outputs": [
    {
     "data": {
      "text/plain": [
       "'1308.3166666666666'"
      ]
     },
     "execution_count": 48,
     "metadata": {},
     "output_type": "execute_result"
    }
   ],
   "source": [
    "result[0]['value'][1]"
   ]
  },
  {
   "cell_type": "code",
   "execution_count": 26,
   "id": "a77a421d",
   "metadata": {},
   "outputs": [
    {
     "data": {
      "text/plain": [
       "[{'metric': {'task_name': 'Sink:_kafka_hotitems'},\n",
       "  'value': [1686152454.634, '5000']},\n",
       " {'metric': {'task_name': 'Source:_HotPagesGenerator'},\n",
       "  'value': [1686152454.634, '0']},\n",
       " {'metric': {'task_name': 'Map'},\n",
       "  'value': [1686152454.634, '4994.833333333334']},\n",
       " {'metric': {'task_name': 'SlidingEventTimeWindows'},\n",
       "  'value': [1686152454.634, '1251.4333333333334']},\n",
       " {'metric': {'task_name': 'Timestamps_Watermarks'},\n",
       "  'value': [1686152454.634, '1253.9166666666667']},\n",
       " {'metric': {'task_name': 'Projection'}, 'value': [1686152454.634, '1252']},\n",
       " {'metric': {'task_name': 'Sink:_Print_to_Std__Out'},\n",
       "  'value': [1686152454.634, '2000.2']},\n",
       " {'metric': {'task_name': 'Source:_kafka_hotitems'},\n",
       "  'value': [1686152454.634, '0']},\n",
       " {'metric': {'task_name': 'KeyedProcess'}, 'value': [1686152454.634, '2000']},\n",
       " {'metric': {'task_name': 'Filter'},\n",
       "  'value': [1686152454.634, '6246.0666666666675']}]"
      ]
     },
     "execution_count": 26,
     "metadata": {},
     "output_type": "execute_result"
    }
   ],
   "source": [
    "query = 'sum by(task_name) (flink_taskmanager_job_task_operator_numRecordsInPerSecond{})'\n",
    "prom.custom_query(query)"
   ]
  },
  {
   "cell_type": "code",
   "execution_count": 58,
   "id": "035a4950",
   "metadata": {},
   "outputs": [
    {
     "data": {
      "text/plain": [
       "'78'"
      ]
     },
     "execution_count": 58,
     "metadata": {},
     "output_type": "execute_result"
    }
   ],
   "source": [
    "query = 'sum by(job_name) (flink_taskmanager_job_task_operator_records_lag_max{job_id=\"7b240762e89bc813a18b44b28d11fa13\"})'\n",
    "prom.custom_query(query)[0]['value'][1]"
   ]
  },
  {
   "cell_type": "code",
   "execution_count": null,
   "id": "800b7d3c",
   "metadata": {},
   "outputs": [],
   "source": []
  }
 ],
 "metadata": {
  "kernelspec": {
   "display_name": "Python 3 (ipykernel)",
   "language": "python",
   "name": "python3"
  },
  "language_info": {
   "codemirror_mode": {
    "name": "ipython",
    "version": 3
   },
   "file_extension": ".py",
   "mimetype": "text/x-python",
   "name": "python",
   "nbconvert_exporter": "python",
   "pygments_lexer": "ipython3",
   "version": "3.9.16"
  }
 },
 "nbformat": 4,
 "nbformat_minor": 5
}
