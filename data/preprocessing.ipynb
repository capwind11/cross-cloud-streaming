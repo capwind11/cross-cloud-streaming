{
 "cells": [
  {
   "cell_type": "code",
   "execution_count": 1,
   "id": "19c86a67",
   "metadata": {},
   "outputs": [],
   "source": [
    "import pandas as pd"
   ]
  },
  {
   "cell_type": "code",
   "execution_count": 7,
   "id": "5dfbbb0b",
   "metadata": {},
   "outputs": [],
   "source": [
    "f =  open(\"UserBehavior.csv\", \"r\")"
   ]
  },
  {
   "cell_type": "code",
   "execution_count": 8,
   "id": "816e0d43",
   "metadata": {},
   "outputs": [],
   "source": [
    "actions = []\n",
    "for line in f.readlines():\n",
    "    actions.append(line.split(\",\")[3])"
   ]
  },
  {
   "cell_type": "code",
   "execution_count": 11,
   "id": "9abcc9fc",
   "metadata": {},
   "outputs": [
    {
     "data": {
      "text/plain": [
       "{'buy', 'cart', 'fav', 'pv'}"
      ]
     },
     "execution_count": 11,
     "metadata": {},
     "output_type": "execute_result"
    }
   ],
   "source": [
    "set(actions)"
   ]
  },
  {
   "cell_type": "code",
   "execution_count": null,
   "id": "c2f709cd",
   "metadata": {},
   "outputs": [],
   "source": []
  }
 ],
 "metadata": {
  "kernelspec": {
   "display_name": "Python 3 (ipykernel)",
   "language": "python",
   "name": "python3"
  },
  "language_info": {
   "codemirror_mode": {
    "name": "ipython",
    "version": 3
   },
   "file_extension": ".py",
   "mimetype": "text/x-python",
   "name": "python",
   "nbconvert_exporter": "python",
   "pygments_lexer": "ipython3",
   "version": "3.9.16"
  }
 },
 "nbformat": 4,
 "nbformat_minor": 5
}
