{
 "cells": [
  {
   "cell_type": "code",
   "execution_count": 5,
   "id": "8dbf0681",
   "metadata": {},
   "outputs": [
    {
     "ename": "KeyError",
     "evalue": "'vertices'",
     "output_type": "error",
     "traceback": [
      "\u001b[0;31m---------------------------------------------------------------------------\u001b[0m",
      "\u001b[0;31mKeyError\u001b[0m                                  Traceback (most recent call last)",
      "Cell \u001b[0;32mIn[5], line 55\u001b[0m\n\u001b[1;32m     52\u001b[0m \u001b[38;5;28;01mif\u001b[39;00m \u001b[38;5;18m__name__\u001b[39m \u001b[38;5;241m==\u001b[39m \u001b[38;5;124m'\u001b[39m\u001b[38;5;124m__main__\u001b[39m\u001b[38;5;124m'\u001b[39m:\n\u001b[1;32m     53\u001b[0m     \u001b[38;5;28;01mwhile\u001b[39;00m \u001b[38;5;28;01mTrue\u001b[39;00m:\n\u001b[1;32m     54\u001b[0m         \u001b[38;5;66;03m# 获取任务 source 的数据处理速率\u001b[39;00m\n\u001b[0;32m---> 55\u001b[0m         \u001b[43mget_task_source_rate\u001b[49m\u001b[43m(\u001b[49m\u001b[43m)\u001b[49m\n\u001b[1;32m     57\u001b[0m         \u001b[38;5;66;03m# 获取 Kafka Lag 信息并计算数据到达率\u001b[39;00m\n\u001b[1;32m     58\u001b[0m \u001b[38;5;66;03m#         get_kafka_lag_rate()\u001b[39;00m\n\u001b[1;32m     59\u001b[0m \n\u001b[1;32m     60\u001b[0m         \u001b[38;5;66;03m# 等待 30s\u001b[39;00m\n\u001b[1;32m     61\u001b[0m         time\u001b[38;5;241m.\u001b[39msleep(\u001b[38;5;241m30\u001b[39m)\n",
      "Cell \u001b[0;32mIn[5], line 24\u001b[0m, in \u001b[0;36mget_task_source_rate\u001b[0;34m()\u001b[0m\n\u001b[1;32m     22\u001b[0m response \u001b[38;5;241m=\u001b[39m requests\u001b[38;5;241m.\u001b[39mget(flink_api_url \u001b[38;5;241m+\u001b[39m \u001b[38;5;124mf\u001b[39m\u001b[38;5;124m'\u001b[39m\u001b[38;5;124m/jobs/\u001b[39m\u001b[38;5;132;01m{\u001b[39;00mjob_id\u001b[38;5;132;01m}\u001b[39;00m\u001b[38;5;124m/vertices\u001b[39m\u001b[38;5;124m'\u001b[39m)\n\u001b[1;32m     23\u001b[0m response_json \u001b[38;5;241m=\u001b[39m response\u001b[38;5;241m.\u001b[39mjson()\n\u001b[0;32m---> 24\u001b[0m \u001b[38;5;28;01mfor\u001b[39;00m vertex \u001b[38;5;129;01min\u001b[39;00m \u001b[43mresponse_json\u001b[49m\u001b[43m[\u001b[49m\u001b[38;5;124;43m'\u001b[39;49m\u001b[38;5;124;43mvertices\u001b[39;49m\u001b[38;5;124;43m'\u001b[39;49m\u001b[43m]\u001b[49m:\n\u001b[1;32m     25\u001b[0m     \u001b[38;5;28;01mif\u001b[39;00m vertex[\u001b[38;5;124m'\u001b[39m\u001b[38;5;124mtype\u001b[39m\u001b[38;5;124m'\u001b[39m] \u001b[38;5;241m==\u001b[39m \u001b[38;5;124m'\u001b[39m\u001b[38;5;124mSource\u001b[39m\u001b[38;5;124m'\u001b[39m:\n\u001b[1;32m     26\u001b[0m         vertex_id \u001b[38;5;241m=\u001b[39m vertex[\u001b[38;5;124m'\u001b[39m\u001b[38;5;124mid\u001b[39m\u001b[38;5;124m'\u001b[39m]\n",
      "\u001b[0;31mKeyError\u001b[0m: 'vertices'"
     ]
    }
   ],
   "source": [
    "import time\n",
    "import requests\n",
    "# from kafka import KafkaConsumer, TopicPartition\n",
    "\n",
    "# Flink REST API 地址\n",
    "flink_api_url = 'http://localhost:8082'\n",
    "\n",
    "# Kafka 相关配置\n",
    "kafka_bootstrap_servers = 'localhost:9092'\n",
    "kafka_topic = 'my-topic'\n",
    "kafka_group_id = 'my-group'\n",
    "\n",
    "# 获取任务 source 的数据处理速率\n",
    "def get_task_source_rate():\n",
    "    # 发送 GET 请求获取任务列表\n",
    "    response = requests.get(flink_api_url + '/jobs')\n",
    "    response_json = response.json()\n",
    "\n",
    "    # 遍历任务列表，获取每个任务的 source 数据处理速率\n",
    "    for job in response_json['jobs']:\n",
    "        job_id = job['id']\n",
    "        response = requests.get(flink_api_url + f'/jobs/{job_id}/vertices')\n",
    "        response_json = response.json()\n",
    "        for vertex in response_json['vertices']:\n",
    "            if vertex['type'] == 'Source':\n",
    "                vertex_id = vertex['id']\n",
    "                response = requests.get(flink_api_url + f'/jobs/{job_id}/vertices/{vertex_id}/metrics')\n",
    "                response_json = response.json()\n",
    "                for metric in response_json['metrics']:\n",
    "                    if metric['id'] == 'numBytesInLocal':\n",
    "                        rate = metric['value'] / 30  # 计算数据处理速率，单位为 B/s\n",
    "                        print(f'Job {job_id}, Source {vertex_id}: {rate} B/s')\n",
    "\n",
    "# 获取 Kafka Lag 信息并计算数据到达率\n",
    "# def get_kafka_lag_rate():\n",
    "#     consumer = KafkaConsumer(bootstrap_servers=kafka_bootstrap_servers, group_id=kafka_group_id)\n",
    "#     partitions = consumer.partitions_for_topic(kafka_topic)\n",
    "#     if partitions is None:\n",
    "#         return\n",
    "#     for partition in partitions:\n",
    "#         tp = TopicPartition(kafka_topic, partition)\n",
    "#         consumer.assign([tp])\n",
    "#         consumer.seek_to_end(tp)\n",
    "#         end_offset = consumer.position(tp)\n",
    "#         consumer.seek_to_beginning(tp)\n",
    "#         start_offset = consumer.position(tp)\n",
    "#         lag = end_offset - start_offset\n",
    "#         rate = lag / 30  # 计算数据到达率，单位为条/秒\n",
    "#         print(f'Partition {partition}: {rate} records/s')\n",
    "\n",
    "# 主程序\n",
    "if __name__ == '__main__':\n",
    "    while True:\n",
    "        # 获取任务 source 的数据处理速率\n",
    "        get_task_source_rate()\n",
    "\n",
    "        # 获取 Kafka Lag 信息并计算数据到达率\n",
    "#         get_kafka_lag_rate()\n",
    "\n",
    "        # 等待 30s\n",
    "        time.sleep(30)\n"
   ]
  },
  {
   "cell_type": "code",
   "execution_count": 3,
   "id": "4833da92",
   "metadata": {},
   "outputs": [],
   "source": [
    "while True:\n",
    "    # 获取任务 source 的数据处理速率\n",
    "    get_task_source_rate()\n",
    "\n",
    "    # 获取 Kafka Lag 信息并计算数据到达率\n",
    "#         get_kafka_lag_rate()\n",
    "\n",
    "    # 等待 30s\n",
    "    time.sleep(30)"
   ]
  },
  {
   "cell_type": "code",
   "execution_count": 9,
   "id": "79c1b1fb",
   "metadata": {},
   "outputs": [
    {
     "name": "stdout",
     "output_type": "stream",
     "text": [
      "{'jobs': [{'id': '53d81da5253844501806c95af939db6b', 'status': 'CANCELED'}, {'id': 'b88d39552dda87f0479f05c31a5e2a31', 'status': 'FAILED'}, {'id': 'cd0b818c3c5833e8f44e08117cc973c3', 'status': 'RUNNING'}, {'id': '8a712689e0515bc72c4269c0269895af', 'status': 'CANCELED'}, {'id': '0f4ab343e711b5ea4da42f648f4cab27', 'status': 'CANCELED'}]}\n"
     ]
    }
   ],
   "source": [
    "response = requests.get(flink_api_url + '/jobs')\n",
    "response_json = response.json()\n",
    "\n",
    "print(response_json)"
   ]
  },
  {
   "cell_type": "code",
   "execution_count": 1,
   "id": "fb6ab8d4",
   "metadata": {},
   "outputs": [
    {
     "name": "stdout",
     "output_type": "stream",
     "text": [
      "1\n"
     ]
    }
   ],
   "source": [
    "print(1)"
   ]
  },
  {
   "cell_type": "code",
   "execution_count": 10,
   "id": "6c6ce80c",
   "metadata": {},
   "outputs": [
    {
     "ename": "KeyError",
     "evalue": "'vertices'",
     "output_type": "error",
     "traceback": [
      "\u001b[0;31m---------------------------------------------------------------------------\u001b[0m",
      "\u001b[0;31mKeyError\u001b[0m                                  Traceback (most recent call last)",
      "Cell \u001b[0;32mIn[10], line 7\u001b[0m\n\u001b[1;32m      5\u001b[0m job \u001b[38;5;241m=\u001b[39m requests\u001b[38;5;241m.\u001b[39mget(flink_api_url \u001b[38;5;241m+\u001b[39m \u001b[38;5;124mf\u001b[39m\u001b[38;5;124m'\u001b[39m\u001b[38;5;124m/jobs/\u001b[39m\u001b[38;5;132;01m{\u001b[39;00mjob_id\u001b[38;5;132;01m}\u001b[39;00m\u001b[38;5;124m/vertices\u001b[39m\u001b[38;5;124m'\u001b[39m)\n\u001b[1;32m      6\u001b[0m job_json \u001b[38;5;241m=\u001b[39m job\u001b[38;5;241m.\u001b[39mjson()\n\u001b[0;32m----> 7\u001b[0m \u001b[38;5;28;01mfor\u001b[39;00m vertex \u001b[38;5;129;01min\u001b[39;00m \u001b[43mjob_json\u001b[49m\u001b[43m[\u001b[49m\u001b[38;5;124;43m'\u001b[39;49m\u001b[38;5;124;43mvertices\u001b[39;49m\u001b[38;5;124;43m'\u001b[39;49m\u001b[43m]\u001b[49m:\n\u001b[1;32m      8\u001b[0m     \u001b[38;5;28;01mif\u001b[39;00m vertex[\u001b[38;5;124m'\u001b[39m\u001b[38;5;124mtype\u001b[39m\u001b[38;5;124m'\u001b[39m] \u001b[38;5;241m==\u001b[39m \u001b[38;5;124m'\u001b[39m\u001b[38;5;124mSource\u001b[39m\u001b[38;5;124m'\u001b[39m:\n\u001b[1;32m      9\u001b[0m         vertex_id \u001b[38;5;241m=\u001b[39m vertex[\u001b[38;5;124m'\u001b[39m\u001b[38;5;124mid\u001b[39m\u001b[38;5;124m'\u001b[39m]\n",
      "\u001b[0;31mKeyError\u001b[0m: 'vertices'"
     ]
    }
   ],
   "source": [
    "for job in response_json['jobs']:\n",
    "    if job['status'] != 'RUNNING':\n",
    "        continue\n",
    "    job_id = job['id']\n",
    "    job = requests.get(flink_api_url + f'/jobs/{job_id}/vertices')\n",
    "    job_json = job.json()\n",
    "    for vertex in job_json['vertices']:\n",
    "        if vertex['type'] == 'Source':\n",
    "            vertex_id = vertex['id']\n",
    "            response = requests.get(flink_api_url + f'/jobs/{job_id}/vertices/{vertex_id}/metrics')\n",
    "            response_json = response.json()\n",
    "            for metric in response_json['metrics']:\n",
    "                if metric['id'] == 'numBytesInLocal':\n",
    "                    rate = metric['value'] / 30  # 计算数据处理速率，单位为 B/s\n",
    "                    print(f'Job {job_id}, Source {vertex_id}: {rate} B/s')"
   ]
  },
  {
   "cell_type": "code",
   "execution_count": 11,
   "id": "fc5c7989",
   "metadata": {},
   "outputs": [
    {
     "data": {
      "text/plain": [
       "{'errors': ['Unable to load requested file /jobs/cd0b818c3c5833e8f44e08117cc973c3/vertices.']}"
      ]
     },
     "execution_count": 11,
     "metadata": {},
     "output_type": "execute_result"
    }
   ],
   "source": [
    "job_json"
   ]
  },
  {
   "cell_type": "code",
   "execution_count": 12,
   "id": "8d359f6f",
   "metadata": {},
   "outputs": [
    {
     "data": {
      "text/plain": [
       "<Response [404]>"
      ]
     },
     "execution_count": 12,
     "metadata": {},
     "output_type": "execute_result"
    }
   ],
   "source": [
    "job"
   ]
  },
  {
   "cell_type": "code",
   "execution_count": 14,
   "id": "ba6652e8",
   "metadata": {},
   "outputs": [],
   "source": [
    "from prometheus_api_client import PrometheusConnect\n",
    "\n",
    "prom = PrometheusConnect(url=\"http://localhost:9090\")"
   ]
  },
  {
   "cell_type": "code",
   "execution_count": 20,
   "id": "b9c42d99",
   "metadata": {},
   "outputs": [
    {
     "data": {
      "text/plain": [
       "<prometheus_api_client.prometheus_connect.PrometheusConnect at 0x106035dc0>"
      ]
     },
     "execution_count": 20,
     "metadata": {},
     "output_type": "execute_result"
    }
   ],
   "source": [
    "prom."
   ]
  },
  {
   "cell_type": "code",
   "execution_count": 18,
   "id": "bcbc0e4b",
   "metadata": {},
   "outputs": [],
   "source": [
    "query = 'sum by(task_name) (flink_taskmanager_job_task_operator_numRecordsInPerSecond{})'\n",
    "result = prom.custom_query(query)"
   ]
  },
  {
   "cell_type": "code",
   "execution_count": 19,
   "id": "cc19f517",
   "metadata": {},
   "outputs": [
    {
     "data": {
      "text/plain": [
       "[]"
      ]
     },
     "execution_count": 19,
     "metadata": {},
     "output_type": "execute_result"
    }
   ],
   "source": [
    "result"
   ]
  },
  {
   "cell_type": "code",
   "execution_count": 26,
   "id": "322c5ae4",
   "metadata": {},
   "outputs": [
    {
     "data": {
      "text/plain": [
       "[{'metric': {'task_name': 'Sink:_kafka_hotitems'},\n",
       "  'value': [1686152454.634, '5000']},\n",
       " {'metric': {'task_name': 'Source:_HotPagesGenerator'},\n",
       "  'value': [1686152454.634, '0']},\n",
       " {'metric': {'task_name': 'Map'},\n",
       "  'value': [1686152454.634, '4994.833333333334']},\n",
       " {'metric': {'task_name': 'SlidingEventTimeWindows'},\n",
       "  'value': [1686152454.634, '1251.4333333333334']},\n",
       " {'metric': {'task_name': 'Timestamps_Watermarks'},\n",
       "  'value': [1686152454.634, '1253.9166666666667']},\n",
       " {'metric': {'task_name': 'Projection'}, 'value': [1686152454.634, '1252']},\n",
       " {'metric': {'task_name': 'Sink:_Print_to_Std__Out'},\n",
       "  'value': [1686152454.634, '2000.2']},\n",
       " {'metric': {'task_name': 'Source:_kafka_hotitems'},\n",
       "  'value': [1686152454.634, '0']},\n",
       " {'metric': {'task_name': 'KeyedProcess'}, 'value': [1686152454.634, '2000']},\n",
       " {'metric': {'task_name': 'Filter'},\n",
       "  'value': [1686152454.634, '6246.0666666666675']}]"
      ]
     },
     "execution_count": 26,
     "metadata": {},
     "output_type": "execute_result"
    }
   ],
   "source": [
    "query = 'sum by(task_name) (flink_taskmanager_job_task_operator_numRecordsInPerSecond{})'\n",
    "prom.custom_query(query)"
   ]
  },
  {
   "cell_type": "code",
   "execution_count": 25,
   "id": "1df74156",
   "metadata": {},
   "outputs": [
    {
     "data": {
      "text/plain": [
       "[{'metric': {'task_name': 'Sink:_kafka_hotitems'},\n",
       "  'value': [1686152418.432, '0']},\n",
       " {'metric': {'task_name': 'Source:_HotPagesGenerator'},\n",
       "  'value': [1686152418.432, '5000']},\n",
       " {'metric': {'task_name': 'Map'},\n",
       "  'value': [1686152418.432, '4993.833333333333']},\n",
       " {'metric': {'task_name': 'SlidingEventTimeWindows'},\n",
       "  'value': [1686152418.432, '2000']},\n",
       " {'metric': {'task_name': 'Timestamps_Watermarks'},\n",
       "  'value': [1686152418.432, '1254.6']},\n",
       " {'metric': {'task_name': 'Projection'},\n",
       "  'value': [1686152418.432, '1254.0666666666666']},\n",
       " {'metric': {'task_name': 'Sink:_Print_to_Std__Out'},\n",
       "  'value': [1686152418.432, '0']},\n",
       " {'metric': {'task_name': 'Source:_kafka_hotitems'},\n",
       "  'value': [1686152418.432, '4996.983333333334']},\n",
       " {'metric': {'task_name': 'KeyedProcess'}, 'value': [1686152418.432, '0.2']},\n",
       " {'metric': {'task_name': 'Filter'},\n",
       "  'value': [1686152418.432, '2506.566666666667']}]"
      ]
     },
     "execution_count": 25,
     "metadata": {},
     "output_type": "execute_result"
    }
   ],
   "source": [
    "query = 'sum by(task_name) (flink_taskmanager_job_task_operator_numRecordsOutPerSecond{})'\n",
    "prom.custom_query(query)"
   ]
  }
 ],
 "metadata": {
  "kernelspec": {
   "display_name": "Python 3 (ipykernel)",
   "language": "python",
   "name": "python3"
  },
  "language_info": {
   "codemirror_mode": {
    "name": "ipython",
    "version": 3
   },
   "file_extension": ".py",
   "mimetype": "text/x-python",
   "name": "python",
   "nbconvert_exporter": "python",
   "pygments_lexer": "ipython3",
   "version": "3.9.16"
  }
 },
 "nbformat": 4,
 "nbformat_minor": 5
}
